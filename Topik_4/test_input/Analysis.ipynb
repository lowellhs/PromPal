{
 "cells": [
  {
   "cell_type": "code",
   "execution_count": 1,
   "metadata": {},
   "outputs": [],
   "source": [
    "from sklearn.metrics import accuracy_score\n",
    "from sklearn.preprocessing import MinMaxScaler, StandardScaler\n",
    "from sklearn.decomposition import PCA\n",
    "from sklearn.neighbors import KNeighborsClassifier\n",
    "import pandas as pd\n",
    "import numpy as np\n",
    "import tensorflow as tf"
   ]
  },
  {
   "cell_type": "code",
   "execution_count": 2,
   "metadata": {},
   "outputs": [
    {
     "name": "stdout",
     "output_type": "stream",
     "text": [
      "Downloading data from https://storage.googleapis.com/tensorflow/tf-keras-datasets/mnist.npz\n",
      "11493376/11490434 [==============================] - 0s 0us/step\n"
     ]
    }
   ],
   "source": [
    "(x_train, y_train), (x_test, y_test) = tf.keras.datasets.mnist.load_data()"
   ]
  },
  {
   "cell_type": "code",
   "execution_count": 3,
   "metadata": {},
   "outputs": [
    {
     "data": {
      "text/plain": [
       "((60000, 28, 28), (60000,), (10000, 28, 28), (10000,))"
      ]
     },
     "execution_count": 3,
     "metadata": {},
     "output_type": "execute_result"
    }
   ],
   "source": [
    "x_train.shape, y_train.shape, x_test.shape, y_test.shape"
   ]
  },
  {
   "cell_type": "code",
   "execution_count": 5,
   "metadata": {},
   "outputs": [
    {
     "data": {
      "text/plain": [
       "((60000, 784), (60000,), (10000, 784), (10000,))"
      ]
     },
     "execution_count": 5,
     "metadata": {},
     "output_type": "execute_result"
    }
   ],
   "source": [
    "x_train_flat = x_train.reshape(60000, 28*28)\n",
    "x_test_flat = x_test.reshape(10000, 28*28)\n",
    "x_train_flat.shape, y_train.shape, x_test_flat.shape, y_test.shape"
   ]
  },
  {
   "cell_type": "markdown",
   "metadata": {},
   "source": [
    "<br>"
   ]
  },
  {
   "cell_type": "code",
   "execution_count": 10,
   "metadata": {},
   "outputs": [
    {
     "name": "stdout",
     "output_type": "stream",
     "text": [
      "PCA n=2, accuracy is 0.440800000\n",
      "PCA n=4, accuracy is 0.648600000\n",
      "PCA n=8, accuracy is 0.901500000\n",
      "PCA n=16, accuracy is 0.961800000\n",
      "PCA n=32, accuracy is 0.973200000\n"
     ]
    }
   ],
   "source": [
    "for n in [2, 4, 8, 16, 32]:\n",
    "    #n = 32\n",
    "    pca = PCA(n_components=n)\n",
    "    x_train_pca = pca.fit_transform(x_train_flat)\n",
    "    x_test_pca = pca.transform(x_test_flat)\n",
    "\n",
    "    knn = KNeighborsClassifier(n_neighbors=11)\n",
    "    knn.fit(x_train_pca, y_train)\n",
    "    y_pred = knn.predict(x_test_pca)\n",
    "    acc = accuracy_score(y_pred, y_test)\n",
    "    print(\"PCA n=%d, accuracy is %.9f\" % (n, acc))"
   ]
  },
  {
   "cell_type": "markdown",
   "metadata": {},
   "source": [
    "<br>"
   ]
  },
  {
   "cell_type": "code",
   "execution_count": 11,
   "metadata": {},
   "outputs": [
    {
     "name": "stdout",
     "output_type": "stream",
     "text": [
      "PCA n=2, accuracy is 0.444700000\n",
      "PCA n=4, accuracy is 0.645500000\n",
      "PCA n=8, accuracy is 0.901400000\n",
      "PCA n=16, accuracy is 0.959600000\n",
      "PCA n=32, accuracy is 0.969400000\n"
     ]
    }
   ],
   "source": [
    "for n in [2, 4, 8, 16, 32]:\n",
    "    pca = PCA(n_components=n)\n",
    "    x_train_pca = pca.fit_transform(x_train_flat)\n",
    "    x_test_pca = pca.transform(x_test_flat)\n",
    "    \n",
    "    scaler = StandardScaler()\n",
    "    x_train_scaled = scaler.fit_transform(x_train_pca)\n",
    "    x_test_scaled = scaler.transform(x_test_pca)\n",
    "\n",
    "    knn = KNeighborsClassifier(n_neighbors=11)\n",
    "    knn.fit(x_train_scaled, y_train)\n",
    "    y_pred = knn.predict(x_test_scaled)\n",
    "    acc = accuracy_score(y_pred, y_test)\n",
    "    print(\"PCA n=%d, accuracy is %.9f\" % (n, acc))"
   ]
  },
  {
   "cell_type": "markdown",
   "metadata": {},
   "source": [
    "<br>"
   ]
  },
  {
   "cell_type": "code",
   "execution_count": 12,
   "metadata": {},
   "outputs": [
    {
     "name": "stdout",
     "output_type": "stream",
     "text": [
      "PCA n=32, k=2, accuracy is 0.970600000\n",
      "PCA n=32, k=3, accuracy is 0.973900000\n",
      "PCA n=32, k=4, accuracy is 0.974900000\n",
      "PCA n=32, k=5, accuracy is 0.975600000\n",
      "PCA n=32, k=6, accuracy is 0.974500000\n",
      "PCA n=32, k=7, accuracy is 0.974500000\n",
      "PCA n=32, k=8, accuracy is 0.975100000\n",
      "PCA n=32, k=9, accuracy is 0.974600000\n",
      "PCA n=32, k=10, accuracy is 0.974300000\n",
      "PCA n=32, k=11, accuracy is 0.973400000\n"
     ]
    }
   ],
   "source": [
    "pca = PCA(n_components=32)\n",
    "x_train_pca = pca.fit_transform(x_train_flat)\n",
    "x_test_pca = pca.transform(x_test_flat)\n",
    "\n",
    "for k in [2, 3, 4, 5, 6, 7, 8, 9, 10, 11]:\n",
    "    knn = KNeighborsClassifier(n_neighbors=k)\n",
    "    knn.fit(x_train_pca, y_train)\n",
    "    y_pred = knn.predict(x_test_pca)\n",
    "    acc = accuracy_score(y_pred, y_test)\n",
    "    print(\"PCA n=%d, k=%d, accuracy is %.9f\" % (n, k, acc))"
   ]
  },
  {
   "cell_type": "markdown",
   "metadata": {},
   "source": [
    "<br>"
   ]
  },
  {
   "cell_type": "code",
   "execution_count": 13,
   "metadata": {},
   "outputs": [
    {
     "name": "stdout",
     "output_type": "stream",
     "text": [
      "PCA n=32, k=5, accuracy is 0.975700000\n"
     ]
    }
   ],
   "source": [
    "pca = PCA(n_components=32)\n",
    "x_train_pca = pca.fit_transform(x_train_flat)\n",
    "x_test_pca = pca.transform(x_test_flat)\n",
    "\n",
    "knn = KNeighborsClassifier(n_neighbors=5)\n",
    "knn.fit(x_train_pca, y_train)\n",
    "y_pred = knn.predict(x_test_pca)\n",
    "acc = accuracy_score(y_pred, y_test)\n",
    "print(\"PCA n=32, k=5, accuracy is %.9f\" % (acc))"
   ]
  },
  {
   "cell_type": "markdown",
   "metadata": {},
   "source": [
    "<br>"
   ]
  },
  {
   "cell_type": "code",
   "execution_count": 19,
   "metadata": {},
   "outputs": [
    {
     "data": {
      "text/plain": [
       "((60000, 33), (10000, 33))"
      ]
     },
     "execution_count": 19,
     "metadata": {},
     "output_type": "execute_result"
    }
   ],
   "source": [
    "data_train = pd.concat([pd.DataFrame(x_train_pca), pd.DataFrame(y_train)], axis=1)\n",
    "data_test = pd.concat([pd.DataFrame(x_test_pca), pd.DataFrame(y_test)], axis=1)\n",
    "data_train.shape, data_test.shape"
   ]
  },
  {
   "cell_type": "code",
   "execution_count": 20,
   "metadata": {},
   "outputs": [],
   "source": [
    "data_train.to_csv('MNIST_train_60k.csv', header=None, index=None)\n",
    "data_test.to_csv('MNIST_test_10k.csv', header=None, index=None)"
   ]
  },
  {
   "cell_type": "markdown",
   "metadata": {},
   "source": [
    "<br>\n",
    "<br>\n",
    "<br>"
   ]
  },
  {
   "cell_type": "code",
   "execution_count": 24,
   "metadata": {},
   "outputs": [
    {
     "data": {
      "text/plain": [
       "((60000, 32), (60000,), (10000, 32), (10000,))"
      ]
     },
     "execution_count": 24,
     "metadata": {},
     "output_type": "execute_result"
    }
   ],
   "source": [
    "data_train = pd.read_csv('MNIST_train_60k.csv', header=None)\n",
    "data_test = pd.read_csv('MNIST_test_10k.csv', header=None)\n",
    "X_train = data_train.drop(32, axis=1)\n",
    "Y_train = data_train.iloc[:, 32]\n",
    "X_test = data_test.drop(32, axis=1)\n",
    "Y_test = data_test.iloc[:, 32]\n",
    "X_train.shape, Y_train.shape, X_test.shape, Y_test.shape"
   ]
  },
  {
   "cell_type": "code",
   "execution_count": 26,
   "metadata": {},
   "outputs": [
    {
     "name": "stdout",
     "output_type": "stream",
     "text": [
      "k=5, accuracy is 0.975700000\n"
     ]
    }
   ],
   "source": [
    "knn = KNeighborsClassifier(n_neighbors=5)\n",
    "knn.fit(X_train, Y_train)\n",
    "y_pred = knn.predict(X_test)\n",
    "acc = accuracy_score(y_pred, Y_test)\n",
    "print(\"k=5, accuracy is %.9f\" % (acc))"
   ]
  },
  {
   "cell_type": "code",
   "execution_count": null,
   "metadata": {},
   "outputs": [],
   "source": []
  }
 ],
 "metadata": {
  "kernelspec": {
   "display_name": "Python 3",
   "language": "python",
   "name": "python3"
  },
  "language_info": {
   "codemirror_mode": {
    "name": "ipython",
    "version": 3
   },
   "file_extension": ".py",
   "mimetype": "text/x-python",
   "name": "python",
   "nbconvert_exporter": "python",
   "pygments_lexer": "ipython3",
   "version": "3.7.4"
  }
 },
 "nbformat": 4,
 "nbformat_minor": 4
}
